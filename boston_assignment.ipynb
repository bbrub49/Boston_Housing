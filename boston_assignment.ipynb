{
 "cells": [
  {
   "cell_type": "markdown",
   "metadata": {},
   "source": [
    "## Boston Housing Assignment\n",
    "\n",
    "In this assignment you'll be using linear regression to estimate the cost of house in boston, using a well known dataset.\n",
    "\n",
    "Goals:\n",
    "+  Measure the performance of the model I created using $R^{2}$ and MSE\n",
    "> Learn how to use sklearn.metrics.r2_score and sklearn.metrics.mean_squared_error\n",
    "+  Implement a new model using L2 regularization\n",
    "> Use sklearn.linear_model.Ridge or sklearn.linear_model.Lasso \n",
    "+  Get the best model you can by optimizing the regularization parameter.   "
   ]
  },
  {
   "cell_type": "code",
   "execution_count": 1,
   "metadata": {
    "collapsed": false
   },
   "outputs": [],
   "source": [
    "from sklearn import datasets\n",
    "import pandas as pd\n",
    "from sklearn.preprocessing import StandardScaler\n",
    "from sklearn.cross_validation import train_test_split\n",
    "from sklearn.metrics import mean_squared_error\n",
    "from sklearn.metrics import r2_score\n",
    "from sklearn.linear_model import LinearRegression\n",
    "from sklearn.linear_model import Lasso\n",
    "from sklearn.linear_model import Ridge"
   ]
  },
  {
   "cell_type": "code",
   "execution_count": 2,
   "metadata": {
    "collapsed": false
   },
   "outputs": [
    {
     "name": "stdout",
     "output_type": "stream",
     "text": [
      "Boston House Prices dataset\n",
      "\n",
      "Notes\n",
      "------\n",
      "Data Set Characteristics:  \n",
      "\n",
      "    :Number of Instances: 506 \n",
      "\n",
      "    :Number of Attributes: 13 numeric/categorical predictive\n",
      "    \n",
      "    :Median Value (attribute 14) is usually the target\n",
      "\n",
      "    :Attribute Information (in order):\n",
      "        - CRIM     per capita crime rate by town\n",
      "        - ZN       proportion of residential land zoned for lots over 25,000 sq.ft.\n",
      "        - INDUS    proportion of non-retail business acres per town\n",
      "        - CHAS     Charles River dummy variable (= 1 if tract bounds river; 0 otherwise)\n",
      "        - NOX      nitric oxides concentration (parts per 10 million)\n",
      "        - RM       average number of rooms per dwelling\n",
      "        - AGE      proportion of owner-occupied units built prior to 1940\n",
      "        - DIS      weighted distances to five Boston employment centres\n",
      "        - RAD      index of accessibility to radial highways\n",
      "        - TAX      full-value property-tax rate per $10,000\n",
      "        - PTRATIO  pupil-teacher ratio by town\n",
      "        - B        1000(Bk - 0.63)^2 where Bk is the proportion of blacks by town\n",
      "        - LSTAT    % lower status of the population\n",
      "        - MEDV     Median value of owner-occupied homes in $1000's\n",
      "\n",
      "    :Missing Attribute Values: None\n",
      "\n",
      "    :Creator: Harrison, D. and Rubinfeld, D.L.\n",
      "\n",
      "This is a copy of UCI ML housing dataset.\n",
      "http://archive.ics.uci.edu/ml/datasets/Housing\n",
      "\n",
      "\n",
      "This dataset was taken from the StatLib library which is maintained at Carnegie Mellon University.\n",
      "\n",
      "The Boston house-price data of Harrison, D. and Rubinfeld, D.L. 'Hedonic\n",
      "prices and the demand for clean air', J. Environ. Economics & Management,\n",
      "vol.5, 81-102, 1978.   Used in Belsley, Kuh & Welsch, 'Regression diagnostics\n",
      "...', Wiley, 1980.   N.B. Various transformations are used in the table on\n",
      "pages 244-261 of the latter.\n",
      "\n",
      "The Boston house-price data has been used in many machine learning papers that address regression\n",
      "problems.   \n",
      "     \n",
      "**References**\n",
      "\n",
      "   - Belsley, Kuh & Welsch, 'Regression diagnostics: Identifying Influential Data and Sources of Collinearity', Wiley, 1980. 244-261.\n",
      "   - Quinlan,R. (1993). Combining Instance-Based and Model-Based Learning. In Proceedings on the Tenth International Conference of Machine Learning, 236-243, University of Massachusetts, Amherst. Morgan Kaufmann.\n",
      "   - many more! (see http://archive.ics.uci.edu/ml/datasets/Housing)\n",
      "\n"
     ]
    }
   ],
   "source": [
    "bean = datasets.load_boston()\n",
    "print bean.DESCR"
   ]
  },
  {
   "cell_type": "code",
   "execution_count": 3,
   "metadata": {
    "collapsed": false
   },
   "outputs": [],
   "source": [
    "def load_boston():\n",
    "    scaler = StandardScaler()\n",
    "    boston = datasets.load_boston()\n",
    "    X=boston.data\n",
    "    y=boston.target\n",
    "    X = scaler.fit_transform(X)\n",
    "    return train_test_split(X,y)\n",
    "    "
   ]
  },
  {
   "cell_type": "code",
   "execution_count": 4,
   "metadata": {
    "collapsed": false
   },
   "outputs": [],
   "source": [
    "X_train, X_test, y_train, y_test = load_boston()"
   ]
  },
  {
   "cell_type": "code",
   "execution_count": 5,
   "metadata": {
    "collapsed": false
   },
   "outputs": [
    {
     "data": {
      "text/plain": [
       "(379, 13)"
      ]
     },
     "execution_count": 5,
     "metadata": {},
     "output_type": "execute_result"
    }
   ],
   "source": [
    "X_train.shape"
   ]
  },
  {
   "cell_type": "markdown",
   "metadata": {},
   "source": [
    "### Fitting a Linear Regression\n",
    "\n",
    "It's as easy as instantiating a new regression object (line 1) and giving your regression object your training data\n",
    "(line 2) by calling .fit(independent variables, dependent variable)\n",
    "\n"
   ]
  },
  {
   "cell_type": "code",
   "execution_count": 6,
   "metadata": {
    "collapsed": false
   },
   "outputs": [
    {
     "data": {
      "text/plain": [
       "LinearRegression(copy_X=True, fit_intercept=True, n_jobs=1, normalize=False)"
      ]
     },
     "execution_count": 6,
     "metadata": {},
     "output_type": "execute_result"
    }
   ],
   "source": [
    "\n",
    "clf = LinearRegression()\n",
    "clf.fit(X_train, y_train)"
   ]
  },
  {
   "cell_type": "markdown",
   "metadata": {},
   "source": [
    "### Making a Prediction\n",
    "X_test is our holdout set of data.  We know the answer (y_test) but the computer does not.   \n",
    "\n",
    "Using the command below, I create a tuple for each observation, where I'm combining the real value (y_test) with\n",
    "the value our regressor predicts (clf.predict(X_test))\n",
    "\n",
    "Use a similiar format to get your r2 and mse metrics working.  Using the [scikit learn api](http://scikit-learn.org/stable/modules/model_evaluation.html) if you need help!"
   ]
  },
  {
   "cell_type": "code",
   "execution_count": 7,
   "metadata": {
    "collapsed": false
   },
   "outputs": [
    {
     "data": {
      "text/plain": [
       "[(20.199999999999999, 16.522932142507198),\n",
       " (12.699999999999999, 12.042277788410219),\n",
       " (16.399999999999999, 18.704755271824169),\n",
       " (19.0, 13.637312916396116),\n",
       " (48.299999999999997, 37.099137902060583),\n",
       " (31.5, 32.553406811290046),\n",
       " (24.800000000000001, 25.164945709723636),\n",
       " (19.600000000000001, 17.63545323254947),\n",
       " (18.0, 18.737668230428213),\n",
       " (42.799999999999997, 30.120820969817739),\n",
       " (22.5, 22.365825225048926),\n",
       " (21.0, 20.862609135064567),\n",
       " (16.5, 10.89207848905914),\n",
       " (16.699999999999999, 19.248308781648905),\n",
       " (41.299999999999997, 32.496164289249577),\n",
       " (18.199999999999999, 18.544821290318094),\n",
       " (37.0, 30.736386235134184),\n",
       " (21.399999999999999, 21.850577965884924),\n",
       " (12.6, 17.908998534496689),\n",
       " (22.800000000000001, 26.447433436205621),\n",
       " (20.600000000000001, 19.356665131413742),\n",
       " (11.5, 13.934197505560821),\n",
       " (17.300000000000001, 15.745763233235451),\n",
       " (17.899999999999999, 0.9199109280868889),\n",
       " (16.300000000000001, 11.086582805502509),\n",
       " (31.199999999999999, 28.651976487989039),\n",
       " (20.100000000000001, 18.424864869180247),\n",
       " (31.0, 34.271811233310217),\n",
       " (24.100000000000001, 29.014513027180321),\n",
       " (27.899999999999999, 31.93389630531377),\n",
       " (30.100000000000001, 29.536112360705815),\n",
       " (35.100000000000001, 35.31912204643109),\n",
       " (50.0, 40.061196786276668),\n",
       " (23.300000000000001, 28.202725719885748),\n",
       " (20.800000000000001, 23.262607702574098),\n",
       " (16.5, 22.088817079069543),\n",
       " (17.800000000000001, 17.446177337916417),\n",
       " (27.100000000000001, 26.789163737187607),\n",
       " (21.600000000000001, 25.348744993180933),\n",
       " (19.800000000000001, 22.65711109903582),\n",
       " (22.5, 28.81235555455007),\n",
       " (30.800000000000001, 31.51721960689407),\n",
       " (24.399999999999999, 23.642907749801751),\n",
       " (19.399999999999999, 19.847965467887761),\n",
       " (32.700000000000003, 30.149762644628552),\n",
       " (17.800000000000001, 9.5806593737825665),\n",
       " (14.4, 3.9151281934676092),\n",
       " (13.800000000000001, 19.99476206339687),\n",
       " (16.600000000000001, 17.626039647528614),\n",
       " (8.6999999999999993, 8.2328940766573098),\n",
       " (50.0, 23.172503149235304),\n",
       " (20.100000000000001, 21.49234757657344),\n",
       " (18.300000000000001, 20.240859966135524),\n",
       " (18.5, 19.295124270422349),\n",
       " (19.899999999999999, 18.747464195052245),\n",
       " (26.600000000000001, 27.841113963622217),\n",
       " (13.300000000000001, 15.616185443280012),\n",
       " (37.299999999999997, 34.486881875338213),\n",
       " (15.699999999999999, 14.01485748094982),\n",
       " (19.5, 20.383573719972663),\n",
       " (19.899999999999999, 19.497252690487315),\n",
       " (22.0, 21.236914014630951),\n",
       " (21.0, 23.378050752627704),\n",
       " (34.899999999999999, 34.444892553663387),\n",
       " (28.600000000000001, 28.09604012991916),\n",
       " (22.199999999999999, 23.62091272826876),\n",
       " (15.199999999999999, 15.850787988533817),\n",
       " (18.399999999999999, 19.445976057015493),\n",
       " (21.199999999999999, 21.040253029140015),\n",
       " (12.699999999999999, 17.677360296355776),\n",
       " (32.0, 33.739064679935254),\n",
       " (17.0, 22.284700646913684),\n",
       " (28.699999999999999, 25.221667375410121),\n",
       " (20.100000000000001, 23.293884734229739),\n",
       " (24.699999999999999, 23.33157761315638),\n",
       " (16.600000000000001, 15.342771854714334),\n",
       " (30.100000000000001, 24.669301953629049),\n",
       " (48.5, 41.841949161911316),\n",
       " (22.600000000000001, 19.12591161557836),\n",
       " (24.100000000000001, 20.231628336602931),\n",
       " (19.800000000000001, 18.293568043388447),\n",
       " (21.199999999999999, 22.019477108701523),\n",
       " (37.600000000000001, 37.36653639624538),\n",
       " (17.399999999999999, 17.419486709075052),\n",
       " (25.199999999999999, 27.527858852900867),\n",
       " (11.0, 13.862142541307012),\n",
       " (20.899999999999999, 21.414100508282623),\n",
       " (21.100000000000001, 20.896706254727636),\n",
       " (22.699999999999999, 22.294950065835597),\n",
       " (13.0, 16.896999248146194),\n",
       " (27.100000000000001, 18.884924960410931),\n",
       " (23.199999999999999, 22.154466123190641),\n",
       " (32.200000000000003, 31.455308318874717),\n",
       " (27.899999999999999, 19.498814832540443),\n",
       " (20.199999999999999, 22.149194162944298),\n",
       " (26.199999999999999, 24.154918661571408),\n",
       " (20.300000000000001, 21.854828839774871),\n",
       " (42.299999999999997, 37.10593963685416),\n",
       " (23.100000000000001, 24.942362758170269),\n",
       " (23.199999999999999, 25.797227418257808),\n",
       " (15.199999999999999, 11.494930214000995),\n",
       " (19.100000000000001, 16.682580044528144),\n",
       " (13.5, 13.522186010666415),\n",
       " (50.0, 43.264982511436671),\n",
       " (21.5, 20.583935661285214),\n",
       " (17.100000000000001, 19.15073502777734),\n",
       " (31.600000000000001, 32.198498988246222),\n",
       " (23.800000000000001, 25.579498799400174),\n",
       " (29.0, 31.773844671422033),\n",
       " (20.300000000000001, 22.37298818963275),\n",
       " (19.399999999999999, 23.287049819785469),\n",
       " (23.399999999999999, 24.274319786532718),\n",
       " (12.300000000000001, 12.847202034142597),\n",
       " (26.399999999999999, 28.885705465036381),\n",
       " (23.300000000000001, 26.634627754093401),\n",
       " (22.899999999999999, 22.599793686615016),\n",
       " (14.300000000000001, 13.854484479688193),\n",
       " (14.9, 17.420048681353716),\n",
       " (17.5, 16.939946411956232),\n",
       " (22.899999999999999, 28.616081901770265),\n",
       " (35.200000000000003, 35.761486233263412),\n",
       " (18.800000000000001, 20.60809589397536),\n",
       " (23.699999999999999, 28.423177235906479),\n",
       " (11.800000000000001, 8.5997370099913422),\n",
       " (10.5, 5.8729112931059113),\n",
       " (17.199999999999999, 16.185840170381802),\n",
       " (18.5, 19.344472608653128)]"
      ]
     },
     "execution_count": 7,
     "metadata": {},
     "output_type": "execute_result"
    }
   ],
   "source": [
    "zip (y_test, clf.predict(X_test))"
   ]
  },
  {
   "cell_type": "code",
   "execution_count": 8,
   "metadata": {
    "collapsed": false
   },
   "outputs": [
    {
     "data": {
      "text/plain": [
       "0.70960013939480404"
      ]
     },
     "execution_count": 8,
     "metadata": {},
     "output_type": "execute_result"
    }
   ],
   "source": [
    "r2_score(y_test, clf.predict(X_test))"
   ]
  },
  {
   "cell_type": "code",
   "execution_count": 9,
   "metadata": {
    "collapsed": false
   },
   "outputs": [
    {
     "data": {
      "text/plain": [
       "21.621138354977305"
      ]
     },
     "execution_count": 9,
     "metadata": {},
     "output_type": "execute_result"
    }
   ],
   "source": [
    "mean_squared_error(y_test, clf.predict(X_test))"
   ]
  },
  {
   "cell_type": "markdown",
   "metadata": {},
   "source": [
    "# Lasso\n",
    "Lasso appears to perform the best of the three, but only by a very small amount."
   ]
  },
  {
   "cell_type": "code",
   "execution_count": 61,
   "metadata": {
    "collapsed": false
   },
   "outputs": [],
   "source": [
    "lclf = Lasso(alpha=1e-3)\n",
    "lclf = lclf.fit(X_train,y_train)"
   ]
  },
  {
   "cell_type": "code",
   "execution_count": 62,
   "metadata": {
    "collapsed": false
   },
   "outputs": [
    {
     "data": {
      "text/plain": [
       "0.70961545589225195"
      ]
     },
     "execution_count": 62,
     "metadata": {},
     "output_type": "execute_result"
    }
   ],
   "source": [
    "r2_score(y_test,lclf.predict(X_test))"
   ]
  },
  {
   "cell_type": "code",
   "execution_count": 73,
   "metadata": {
    "collapsed": true
   },
   "outputs": [],
   "source": [
    "rclf = Ridge(alpha=1e-8)\n",
    "rclf = rclf.fit(X_train,y_train)"
   ]
  },
  {
   "cell_type": "code",
   "execution_count": 74,
   "metadata": {
    "collapsed": false
   },
   "outputs": [
    {
     "data": {
      "text/plain": [
       "0.70960013939259503"
      ]
     },
     "execution_count": 74,
     "metadata": {},
     "output_type": "execute_result"
    }
   ],
   "source": [
    "r2_score(y_test,rclf.predict(X_test))"
   ]
  },
  {
   "cell_type": "code",
   "execution_count": 75,
   "metadata": {
    "collapsed": false
   },
   "outputs": [
    {
     "data": {
      "text/plain": [
       "21.619997995922915"
      ]
     },
     "execution_count": 75,
     "metadata": {},
     "output_type": "execute_result"
    }
   ],
   "source": [
    "mean_squared_error(y_test,lclf.predict(X_test))"
   ]
  },
  {
   "cell_type": "code",
   "execution_count": 76,
   "metadata": {
    "collapsed": false
   },
   "outputs": [
    {
     "data": {
      "text/plain": [
       "21.62113835514177"
      ]
     },
     "execution_count": 76,
     "metadata": {},
     "output_type": "execute_result"
    }
   ],
   "source": [
    "mean_squared_error(y_test,rclf.predict(X_test))"
   ]
  },
  {
   "cell_type": "code",
   "execution_count": 16,
   "metadata": {
    "collapsed": false
   },
   "outputs": [
    {
     "data": {
      "text/plain": [
       "array([[-0.34584335, -0.48772236, -0.72032214, ..., -0.48803915,\n",
       "         0.36967396, -0.38170208],\n",
       "       [-0.41387091, -0.48772236, -1.12740922, ..., -0.30309415,\n",
       "         0.40432133, -0.62420272],\n",
       "       [-0.40680547,  0.97154295, -0.73637217, ..., -1.08911039,\n",
       "         0.37011253, -1.09238316],\n",
       "       ..., \n",
       "       [-0.41510165,  0.71402554,  0.56951647, ..., -0.11814915,\n",
       "         0.43480225, -0.90314855],\n",
       "       [ 0.36374664, -0.48772236,  1.01599907, ...,  0.80657583,\n",
       "        -3.9071933 ,  0.67100304],\n",
       "       [ 0.399245  , -0.48772236,  1.01599907, ...,  0.80657583,\n",
       "        -0.40232651,  0.42710065]])"
      ]
     },
     "execution_count": 16,
     "metadata": {},
     "output_type": "execute_result"
    }
   ],
   "source": [
    "X_train"
   ]
  },
  {
   "cell_type": "code",
   "execution_count": 17,
   "metadata": {
    "collapsed": false
   },
   "outputs": [
    {
     "data": {
      "text/plain": [
       "array([ 20.2,  12.7,  16.4,  19. ,  48.3,  31.5,  24.8,  19.6,  18. ,\n",
       "        42.8,  22.5,  21. ,  16.5,  16.7,  41.3,  18.2,  37. ,  21.4,\n",
       "        12.6,  22.8,  20.6,  11.5,  17.3,  17.9,  16.3,  31.2,  20.1,\n",
       "        31. ,  24.1,  27.9,  30.1,  35.1,  50. ,  23.3,  20.8,  16.5,\n",
       "        17.8,  27.1,  21.6,  19.8,  22.5,  30.8,  24.4,  19.4,  32.7,\n",
       "        17.8,  14.4,  13.8,  16.6,   8.7,  50. ,  20.1,  18.3,  18.5,\n",
       "        19.9,  26.6,  13.3,  37.3,  15.7,  19.5,  19.9,  22. ,  21. ,\n",
       "        34.9,  28.6,  22.2,  15.2,  18.4,  21.2,  12.7,  32. ,  17. ,\n",
       "        28.7,  20.1,  24.7,  16.6,  30.1,  48.5,  22.6,  24.1,  19.8,\n",
       "        21.2,  37.6,  17.4,  25.2,  11. ,  20.9,  21.1,  22.7,  13. ,\n",
       "        27.1,  23.2,  32.2,  27.9,  20.2,  26.2,  20.3,  42.3,  23.1,\n",
       "        23.2,  15.2,  19.1,  13.5,  50. ,  21.5,  17.1,  31.6,  23.8,\n",
       "        29. ,  20.3,  19.4,  23.4,  12.3,  26.4,  23.3,  22.9,  14.3,\n",
       "        14.9,  17.5,  22.9,  35.2,  18.8,  23.7,  11.8,  10.5,  17.2,  18.5])"
      ]
     },
     "execution_count": 17,
     "metadata": {},
     "output_type": "execute_result"
    }
   ],
   "source": [
    "y_test"
   ]
  },
  {
   "cell_type": "code",
   "execution_count": null,
   "metadata": {
    "collapsed": true
   },
   "outputs": [],
   "source": []
  }
 ],
 "metadata": {
  "kernelspec": {
   "display_name": "Python 2",
   "language": "python",
   "name": "python2"
  },
  "language_info": {
   "codemirror_mode": {
    "name": "ipython",
    "version": 2
   },
   "file_extension": ".py",
   "mimetype": "text/x-python",
   "name": "python",
   "nbconvert_exporter": "python",
   "pygments_lexer": "ipython2",
   "version": "2.7.10"
  }
 },
 "nbformat": 4,
 "nbformat_minor": 0
}
